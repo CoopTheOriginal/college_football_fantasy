{
 "cells": [
  {
   "cell_type": "code",
   "execution_count": null,
   "metadata": {
    "collapsed": false
   },
   "outputs": [],
   "source": [
    "import numpy as np\n",
    "\n",
    "def create_class_array(player_list):\n",
    "    new_array = np.array([[player_stat.player.pk,\n",
    "                        player_stat.pass_attempts,\n",
    "                        player_stat.pass_completions,\n",
    "                        player_stat.pass_yards,\n",
    "                        player_stat.pass_touchdowns,\n",
    "                        player_stat.interceptions,\n",
    "                        player_stat.rush_attempts,\n",
    "                        player_stat.rush_yards,\n",
    "                        player_stat.rush_touchdowns,\n",
    "                        player_stat.score] for player_stat in player_list])\n",
    "    return new_array\n",
    "\n",
    "train_array = create_class_array(PlayerData.objects.filter(game__week__lte=13))\n",
    "train_array = create_class_array(PlayerData.objects.filter(game__week=14))"
   ]
  },
  {
   "cell_type": "code",
   "execution_count": null,
   "metadata": {
    "collapsed": false
   },
   "outputs": [],
   "source": []
  },
  {
   "cell_type": "code",
   "execution_count": null,
   "metadata": {
    "collapsed": false
   },
   "outputs": [],
   "source": []
  },
  {
   "cell_type": "code",
   "execution_count": null,
   "metadata": {
    "collapsed": true
   },
   "outputs": [],
   "source": []
  }
 ],
 "metadata": {
  "kernelspec": {
   "display_name": "Django Shell-Plus",
   "language": "python",
   "name": "django_extensions"
  },
  "language_info": {
   "codemirror_mode": {
    "name": "ipython",
    "version": 3
   },
   "file_extension": ".py",
   "mimetype": "text/x-python",
   "name": "python",
   "nbconvert_exporter": "python",
   "pygments_lexer": "ipython3",
   "version": "3.4.2"
  }
 },
 "nbformat": 4,
 "nbformat_minor": 0
}
