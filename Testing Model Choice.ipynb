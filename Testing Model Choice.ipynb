{
 "cells": [
  {
   "cell_type": "code",
   "execution_count": 93,
   "metadata": {
    "collapsed": false
   },
   "outputs": [
    {
     "data": {
      "text/plain": [
       "0.044247787610619468"
      ]
     },
     "execution_count": 93,
     "metadata": {},
     "output_type": "execute_result"
    }
   ],
   "source": [
    "import numpy as np\n",
    "from sklearn.ensemble import RandomForestClassifier \n",
    "from sklearn.cross_validation import cross_val_score\n",
    "from sklearn.metrics import accuracy_score\n",
    "import matplotlib.pyplot as plt\n",
    "import seaborn as sbn\n",
    "%matplotlib inline\n",
    "\n",
    "\n",
    "def team_to_int_dict():\n",
    "    teams = list(Game.objects.all().values_list('team', flat=True).distinct())\n",
    "    return {team:teams.index(team) for team in teams}\n",
    "\n",
    "team_ids = team_to_int_dict()\n",
    "\n",
    "def prep_pass_attempts(player_list):\n",
    "    return np.array([stat.pass_attempts for stat in player_list])\n",
    "\n",
    "def prep_model_input(player_list):\n",
    "    return np.array([[team_ids[stat.game.team],\n",
    "                      stat.game.home] \n",
    "                      for stat in player_list])\n",
    "\n",
    "def run_model(train_input, train_answer, test_input, test_answer):\n",
    "    \"\"\"Random Forest Classifier\"\"\"\n",
    "    rfc = RandomForestClassifier ()\n",
    "    rfc.fit(train_input, train_answer)\n",
    "    predicted = rfc.predict(test_input)\n",
    "    return accuracy_score(test_answer, predicted)\n",
    "\n",
    "def compare_predicted_and_actual(test_answer, predicted):\n",
    "    plt.figure(figsize=(13,7))\n",
    "    plt.plot(test_answer)\n",
    "    plt.plot(predicted)\n",
    "\n",
    "train_input = prep_model_input(PlayerData.objects.filter(game__week__lte=13))\n",
    "train_answer = prep_pass_attempts(PlayerData.objects.filter(game__week__lte=13))\n",
    "test_input = prep_model_input(PlayerData.objects.filter(game__week=14))\n",
    "test_answer = prep_pass_attempts(PlayerData.objects.filter(game__week=14))\n",
    "run_model(train_input, train_answer, test_input, test_answer)"
   ]
  },
  {
   "cell_type": "code",
   "execution_count": null,
   "metadata": {
    "collapsed": false
   },
   "outputs": [],
   "source": [
    "compare_predicted_and_actual"
   ]
  },
  {
   "cell_type": "code",
   "execution_count": null,
   "metadata": {
    "collapsed": false
   },
   "outputs": [],
   "source": []
  },
  {
   "cell_type": "code",
   "execution_count": null,
   "metadata": {
    "collapsed": true
   },
   "outputs": [],
   "source": []
  }
 ],
 "metadata": {
  "kernelspec": {
   "display_name": "Django Shell-Plus",
   "language": "python",
   "name": "django_extensions"
  },
  "language_info": {
   "codemirror_mode": {
    "name": "ipython",
    "version": 3
   },
   "file_extension": ".py",
   "mimetype": "text/x-python",
   "name": "python",
   "nbconvert_exporter": "python",
   "pygments_lexer": "ipython3",
   "version": "3.4.2"
  }
 },
 "nbformat": 4,
 "nbformat_minor": 0
}
