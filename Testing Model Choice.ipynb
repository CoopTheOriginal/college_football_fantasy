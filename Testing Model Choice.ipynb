{
 "cells": [
  {
   "cell_type": "code",
   "execution_count": 104,
   "metadata": {
    "collapsed": false
   },
   "outputs": [
    {
     "data": {
      "text/plain": [
       "array([[1621,   20,   14, ...,   43,    1,    0],\n",
       "       [1621,   23,   19, ...,   71,    2,    0],\n",
       "       [1621,   32,   20, ...,    1,    0,    0],\n",
       "       ..., \n",
       "       [1769,   28,   23, ...,   55,    1,    0],\n",
       "       [1769,   18,   11, ...,   23,    0,    0],\n",
       "       [1770,    0,    0, ...,  -10,    0,    0]])"
      ]
     },
     "execution_count": 104,
     "metadata": {},
     "output_type": "execute_result"
    }
   ],
   "source": [
    "import numpy as np\n",
    "\n",
    "player_data = PlayerData.objects.all()\n",
    "class_list = np.array([[player_stat.player.pk,\n",
    "                        player_stat.pass_attempts,\n",
    "                        player_stat.pass_completions,\n",
    "                        player_stat.pass_yards,\n",
    "                        player_stat.pass_touchdowns,\n",
    "                        player_stat.interceptions,\n",
    "                        player_stat.rush_attempts,\n",
    "                        player_stat.rush_yards,\n",
    "                        player_stat.rush_touchdowns,\n",
    "                        player_stat.score] for player_stat in player_data])\n",
    "class_array"
   ]
  },
  {
   "cell_type": "code",
   "execution_count": null,
   "metadata": {
    "collapsed": false
   },
   "outputs": [],
   "source": []
  },
  {
   "cell_type": "code",
   "execution_count": 103,
   "metadata": {
    "collapsed": false
   },
   "outputs": [],
   "source": []
  },
  {
   "cell_type": "code",
   "execution_count": null,
   "metadata": {
    "collapsed": false
   },
   "outputs": [],
   "source": []
  },
  {
   "cell_type": "code",
   "execution_count": null,
   "metadata": {
    "collapsed": true
   },
   "outputs": [],
   "source": []
  }
 ],
 "metadata": {
  "kernelspec": {
   "display_name": "Django Shell-Plus",
   "language": "python",
   "name": "django_extensions"
  },
  "language_info": {
   "codemirror_mode": {
    "name": "ipython",
    "version": 3
   },
   "file_extension": ".py",
   "mimetype": "text/x-python",
   "name": "python",
   "nbconvert_exporter": "python",
   "pygments_lexer": "ipython3",
   "version": "3.4.2"
  }
 },
 "nbformat": 4,
 "nbformat_minor": 0
}
